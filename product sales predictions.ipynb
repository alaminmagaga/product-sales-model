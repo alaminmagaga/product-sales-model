{
 "cells": [
  {
   "cell_type": "code",
   "execution_count": 1,
   "metadata": {},
   "outputs": [],
   "source": [
    "import numpy as np\n",
    "import pandas as pd\n",
    "import seaborn as sns\n",
    "import matplotlib.pyplot as plt"
   ]
  },
  {
   "cell_type": "code",
   "execution_count": 2,
   "metadata": {},
   "outputs": [],
   "source": [
    "train=pd.read_csv('market.csv')\n",
    "test=pd.read_csv('market_test.csv')"
   ]
  },
  {
   "cell_type": "code",
   "execution_count": 3,
   "metadata": {},
   "outputs": [
    {
     "data": {
      "text/html": [
       "<div>\n",
       "<style scoped>\n",
       "    .dataframe tbody tr th:only-of-type {\n",
       "        vertical-align: middle;\n",
       "    }\n",
       "\n",
       "    .dataframe tbody tr th {\n",
       "        vertical-align: top;\n",
       "    }\n",
       "\n",
       "    .dataframe thead th {\n",
       "        text-align: right;\n",
       "    }\n",
       "</style>\n",
       "<table border=\"1\" class=\"dataframe\">\n",
       "  <thead>\n",
       "    <tr style=\"text-align: right;\">\n",
       "      <th></th>\n",
       "      <th>Product_Identifier</th>\n",
       "      <th>Supermarket_Identifier</th>\n",
       "      <th>Product_Supermarket_Identifier</th>\n",
       "      <th>Product_Weight</th>\n",
       "      <th>Product_Fat_Content</th>\n",
       "      <th>Product_Shelf_Visibility</th>\n",
       "      <th>Product_Type</th>\n",
       "      <th>Product_Price</th>\n",
       "      <th>Supermarket_Opening_Year</th>\n",
       "      <th>Supermarket _Size</th>\n",
       "      <th>Supermarket_Location_Type</th>\n",
       "      <th>Supermarket_Type</th>\n",
       "      <th>Product_Supermarket_Sales</th>\n",
       "    </tr>\n",
       "  </thead>\n",
       "  <tbody>\n",
       "    <tr>\n",
       "      <th>0</th>\n",
       "      <td>DRB24</td>\n",
       "      <td>CHUKWUDI017</td>\n",
       "      <td>DRB24_CHUKWUDI017</td>\n",
       "      <td>8.785</td>\n",
       "      <td>Low Fat</td>\n",
       "      <td>0.020694</td>\n",
       "      <td>Soft Drinks</td>\n",
       "      <td>382.91</td>\n",
       "      <td>2014</td>\n",
       "      <td>NaN</td>\n",
       "      <td>Cluster 2</td>\n",
       "      <td>Supermarket Type1</td>\n",
       "      <td>4633.97</td>\n",
       "    </tr>\n",
       "    <tr>\n",
       "      <th>1</th>\n",
       "      <td>FDR31</td>\n",
       "      <td>CHUKWUDI019</td>\n",
       "      <td>FDR31_CHUKWUDI019</td>\n",
       "      <td>NaN</td>\n",
       "      <td>Normal Fat</td>\n",
       "      <td>0.086078</td>\n",
       "      <td>Fruits and Vegetables</td>\n",
       "      <td>359.53</td>\n",
       "      <td>1992</td>\n",
       "      <td>Small</td>\n",
       "      <td>Cluster 1</td>\n",
       "      <td>Grocery Store</td>\n",
       "      <td>729.05</td>\n",
       "    </tr>\n",
       "    <tr>\n",
       "      <th>2</th>\n",
       "      <td>FDP16</td>\n",
       "      <td>CHUKWUDI017</td>\n",
       "      <td>FDP16_CHUKWUDI017</td>\n",
       "      <td>18.600</td>\n",
       "      <td>Low Fat</td>\n",
       "      <td>0.039517</td>\n",
       "      <td>Frozen Foods</td>\n",
       "      <td>609.20</td>\n",
       "      <td>2014</td>\n",
       "      <td>NaN</td>\n",
       "      <td>Cluster 2</td>\n",
       "      <td>Supermarket Type1</td>\n",
       "      <td>14740.81</td>\n",
       "    </tr>\n",
       "    <tr>\n",
       "      <th>3</th>\n",
       "      <td>FDY16</td>\n",
       "      <td>CHUKWUDI027</td>\n",
       "      <td>FDY16_CHUKWUDI027</td>\n",
       "      <td>NaN</td>\n",
       "      <td>Normal Fat</td>\n",
       "      <td>0.091780</td>\n",
       "      <td>Frozen Foods</td>\n",
       "      <td>456.32</td>\n",
       "      <td>1992</td>\n",
       "      <td>Medium</td>\n",
       "      <td>Cluster 3</td>\n",
       "      <td>Supermarket Type3</td>\n",
       "      <td>16137.33</td>\n",
       "    </tr>\n",
       "    <tr>\n",
       "      <th>4</th>\n",
       "      <td>FDY48</td>\n",
       "      <td>CHUKWUDI046</td>\n",
       "      <td>FDY48_CHUKWUDI046</td>\n",
       "      <td>14.000</td>\n",
       "      <td>Low Fat</td>\n",
       "      <td>0.023735</td>\n",
       "      <td>Baking Goods</td>\n",
       "      <td>258.08</td>\n",
       "      <td>2004</td>\n",
       "      <td>Small</td>\n",
       "      <td>Cluster 1</td>\n",
       "      <td>Supermarket Type1</td>\n",
       "      <td>4613.99</td>\n",
       "    </tr>\n",
       "  </tbody>\n",
       "</table>\n",
       "</div>"
      ],
      "text/plain": [
       "  Product_Identifier Supermarket_Identifier Product_Supermarket_Identifier  \\\n",
       "0              DRB24            CHUKWUDI017              DRB24_CHUKWUDI017   \n",
       "1              FDR31            CHUKWUDI019              FDR31_CHUKWUDI019   \n",
       "2              FDP16            CHUKWUDI017              FDP16_CHUKWUDI017   \n",
       "3              FDY16            CHUKWUDI027              FDY16_CHUKWUDI027   \n",
       "4              FDY48            CHUKWUDI046              FDY48_CHUKWUDI046   \n",
       "\n",
       "   Product_Weight Product_Fat_Content  Product_Shelf_Visibility  \\\n",
       "0           8.785             Low Fat                  0.020694   \n",
       "1             NaN          Normal Fat                  0.086078   \n",
       "2          18.600             Low Fat                  0.039517   \n",
       "3             NaN          Normal Fat                  0.091780   \n",
       "4          14.000             Low Fat                  0.023735   \n",
       "\n",
       "            Product_Type  Product_Price  Supermarket_Opening_Year  \\\n",
       "0            Soft Drinks         382.91                      2014   \n",
       "1  Fruits and Vegetables         359.53                      1992   \n",
       "2           Frozen Foods         609.20                      2014   \n",
       "3           Frozen Foods         456.32                      1992   \n",
       "4           Baking Goods         258.08                      2004   \n",
       "\n",
       "  Supermarket _Size Supermarket_Location_Type   Supermarket_Type  \\\n",
       "0               NaN                 Cluster 2  Supermarket Type1   \n",
       "1             Small                 Cluster 1      Grocery Store   \n",
       "2               NaN                 Cluster 2  Supermarket Type1   \n",
       "3            Medium                 Cluster 3  Supermarket Type3   \n",
       "4             Small                 Cluster 1  Supermarket Type1   \n",
       "\n",
       "   Product_Supermarket_Sales  \n",
       "0                    4633.97  \n",
       "1                     729.05  \n",
       "2                   14740.81  \n",
       "3                   16137.33  \n",
       "4                    4613.99  "
      ]
     },
     "execution_count": 3,
     "metadata": {},
     "output_type": "execute_result"
    }
   ],
   "source": [
    "train.head()"
   ]
  },
  {
   "cell_type": "code",
   "execution_count": 4,
   "metadata": {},
   "outputs": [
    {
     "data": {
      "text/plain": [
       "(3742, 13)"
      ]
     },
     "execution_count": 4,
     "metadata": {},
     "output_type": "execute_result"
    }
   ],
   "source": [
    "train.shape"
   ]
  },
  {
   "cell_type": "markdown",
   "metadata": {},
   "source": [
    "# exploration of data,preprocessing and feature engineering"
   ]
  },
  {
   "cell_type": "markdown",
   "metadata": {},
   "source": [
    "train dataset"
   ]
  },
  {
   "cell_type": "code",
   "execution_count": 5,
   "metadata": {},
   "outputs": [
    {
     "name": "stdout",
     "output_type": "stream",
     "text": [
      "<class 'pandas.core.frame.DataFrame'>\n",
      "RangeIndex: 3742 entries, 0 to 3741\n",
      "Data columns (total 13 columns):\n",
      " #   Column                          Non-Null Count  Dtype  \n",
      "---  ------                          --------------  -----  \n",
      " 0   Product_Identifier              3742 non-null   object \n",
      " 1   Supermarket_Identifier          3742 non-null   object \n",
      " 2   Product_Supermarket_Identifier  3742 non-null   object \n",
      " 3   Product_Weight                  3141 non-null   float64\n",
      " 4   Product_Fat_Content             3742 non-null   object \n",
      " 5   Product_Shelf_Visibility        3742 non-null   float64\n",
      " 6   Product_Type                    3742 non-null   object \n",
      " 7   Product_Price                   3742 non-null   float64\n",
      " 8   Supermarket_Opening_Year        3742 non-null   int64  \n",
      " 9   Supermarket _Size               2616 non-null   object \n",
      " 10  Supermarket_Location_Type       3742 non-null   object \n",
      " 11  Supermarket_Type                3742 non-null   object \n",
      " 12  Product_Supermarket_Sales       3742 non-null   float64\n",
      "dtypes: float64(4), int64(1), object(8)\n",
      "memory usage: 380.2+ KB\n"
     ]
    }
   ],
   "source": [
    "train.info()"
   ]
  },
  {
   "cell_type": "code",
   "execution_count": 6,
   "metadata": {},
   "outputs": [
    {
     "data": {
      "text/html": [
       "<div>\n",
       "<style scoped>\n",
       "    .dataframe tbody tr th:only-of-type {\n",
       "        vertical-align: middle;\n",
       "    }\n",
       "\n",
       "    .dataframe tbody tr th {\n",
       "        vertical-align: top;\n",
       "    }\n",
       "\n",
       "    .dataframe thead th {\n",
       "        text-align: right;\n",
       "    }\n",
       "</style>\n",
       "<table border=\"1\" class=\"dataframe\">\n",
       "  <thead>\n",
       "    <tr style=\"text-align: right;\">\n",
       "      <th></th>\n",
       "      <th>Product_Weight</th>\n",
       "      <th>Product_Shelf_Visibility</th>\n",
       "      <th>Product_Price</th>\n",
       "      <th>Supermarket_Opening_Year</th>\n",
       "      <th>Product_Supermarket_Sales</th>\n",
       "    </tr>\n",
       "  </thead>\n",
       "  <tbody>\n",
       "    <tr>\n",
       "      <th>count</th>\n",
       "      <td>3141.000000</td>\n",
       "      <td>3742.000000</td>\n",
       "      <td>3742.000000</td>\n",
       "      <td>3742.000000</td>\n",
       "      <td>3742.000000</td>\n",
       "    </tr>\n",
       "    <tr>\n",
       "      <th>mean</th>\n",
       "      <td>12.870640</td>\n",
       "      <td>0.066613</td>\n",
       "      <td>391.815315</td>\n",
       "      <td>2004.778461</td>\n",
       "      <td>6103.735353</td>\n",
       "    </tr>\n",
       "    <tr>\n",
       "      <th>std</th>\n",
       "      <td>4.730432</td>\n",
       "      <td>0.052951</td>\n",
       "      <td>120.204222</td>\n",
       "      <td>8.276712</td>\n",
       "      <td>4456.169125</td>\n",
       "    </tr>\n",
       "    <tr>\n",
       "      <th>min</th>\n",
       "      <td>4.555000</td>\n",
       "      <td>0.000000</td>\n",
       "      <td>78.730000</td>\n",
       "      <td>1992.000000</td>\n",
       "      <td>83.230000</td>\n",
       "    </tr>\n",
       "    <tr>\n",
       "      <th>25%</th>\n",
       "      <td>8.630000</td>\n",
       "      <td>0.026971</td>\n",
       "      <td>308.392500</td>\n",
       "      <td>1994.000000</td>\n",
       "      <td>2728.120000</td>\n",
       "    </tr>\n",
       "    <tr>\n",
       "      <th>50%</th>\n",
       "      <td>12.600000</td>\n",
       "      <td>0.053517</td>\n",
       "      <td>393.910000</td>\n",
       "      <td>2006.000000</td>\n",
       "      <td>5374.675000</td>\n",
       "    </tr>\n",
       "    <tr>\n",
       "      <th>75%</th>\n",
       "      <td>17.100000</td>\n",
       "      <td>0.095094</td>\n",
       "      <td>466.480000</td>\n",
       "      <td>2011.000000</td>\n",
       "      <td>8524.737500</td>\n",
       "    </tr>\n",
       "    <tr>\n",
       "      <th>max</th>\n",
       "      <td>21.350000</td>\n",
       "      <td>0.328391</td>\n",
       "      <td>667.220000</td>\n",
       "      <td>2016.000000</td>\n",
       "      <td>28612.760000</td>\n",
       "    </tr>\n",
       "  </tbody>\n",
       "</table>\n",
       "</div>"
      ],
      "text/plain": [
       "       Product_Weight  Product_Shelf_Visibility  Product_Price  \\\n",
       "count     3141.000000               3742.000000    3742.000000   \n",
       "mean        12.870640                  0.066613     391.815315   \n",
       "std          4.730432                  0.052951     120.204222   \n",
       "min          4.555000                  0.000000      78.730000   \n",
       "25%          8.630000                  0.026971     308.392500   \n",
       "50%         12.600000                  0.053517     393.910000   \n",
       "75%         17.100000                  0.095094     466.480000   \n",
       "max         21.350000                  0.328391     667.220000   \n",
       "\n",
       "       Supermarket_Opening_Year  Product_Supermarket_Sales  \n",
       "count               3742.000000                3742.000000  \n",
       "mean                2004.778461                6103.735353  \n",
       "std                    8.276712                4456.169125  \n",
       "min                 1992.000000                  83.230000  \n",
       "25%                 1994.000000                2728.120000  \n",
       "50%                 2006.000000                5374.675000  \n",
       "75%                 2011.000000                8524.737500  \n",
       "max                 2016.000000               28612.760000  "
      ]
     },
     "execution_count": 6,
     "metadata": {},
     "output_type": "execute_result"
    }
   ],
   "source": [
    "train.describe()   #information of the data types"
   ]
  },
  {
   "cell_type": "code",
   "execution_count": 7,
   "metadata": {},
   "outputs": [
    {
     "data": {
      "text/plain": [
       "Product_Identifier                   0\n",
       "Supermarket_Identifier               0\n",
       "Product_Supermarket_Identifier       0\n",
       "Product_Weight                     601\n",
       "Product_Fat_Content                  0\n",
       "Product_Shelf_Visibility             0\n",
       "Product_Type                         0\n",
       "Product_Price                        0\n",
       "Supermarket_Opening_Year             0\n",
       "Supermarket _Size                 1126\n",
       "Supermarket_Location_Type            0\n",
       "Supermarket_Type                     0\n",
       "Product_Supermarket_Sales            0\n",
       "dtype: int64"
      ]
     },
     "execution_count": 7,
     "metadata": {},
     "output_type": "execute_result"
    }
   ],
   "source": [
    "train.isnull().sum() #checking for missing values"
   ]
  },
  {
   "cell_type": "code",
   "execution_count": 8,
   "metadata": {},
   "outputs": [
    {
     "data": {
      "text/plain": [
       "<matplotlib.axes._subplots.AxesSubplot at 0xb37e4a8>"
      ]
     },
     "execution_count": 8,
     "metadata": {},
     "output_type": "execute_result"
    },
    {
     "data": {
      "image/png": "[encoded data removed]",
      "text/plain": [
       "<Figure size 432x288 with 1 Axes>"
      ]
     },
     "metadata": {
      "needs_background": "light"
     },
     "output_type": "display_data"
    }
   ],
   "source": [
    "sns.heatmap(train.isnull(),yticklabels=False,cbar=False) "
   ]
  },
  {
   "cell_type": "code",
   "execution_count": 9,
   "metadata": {},
   "outputs": [],
   "source": [
    "train=train.fillna(method='bfill') #filling the missing values"
   ]
  },
  {
   "cell_type": "code",
   "execution_count": 10,
   "metadata": {},
   "outputs": [
    {
     "data": {
      "text/plain": [
       "<matplotlib.axes._subplots.AxesSubplot at 0xb35b3c8>"
      ]
     },
     "execution_count": 10,
     "metadata": {},
     "output_type": "execute_result"
    },
    {
     "data": {
      "image/png": "[encoded data removed]",
      "text/plain": [
       "<Figure size 432x288 with 1 Axes>"
      ]
     },
     "metadata": {
      "needs_background": "light"
     },
     "output_type": "display_data"
    }
   ],
   "source": [
    "sns.heatmap(train.isnull(),yticklabels=False,cbar=False)"
   ]
  },
  {
   "cell_type": "code",
   "execution_count": 11,
   "metadata": {},
   "outputs": [],
   "source": [
    "#dropping columns\n",
    "train.drop([\"Product_Identifier\",\"Supermarket_Identifier\",\"Product_Supermarket_Identifier\"],axis=1,inplace=True)"
   ]
  },
  {
   "cell_type": "code",
   "execution_count": 12,
   "metadata": {},
   "outputs": [
    {
     "data": {
      "text/html": [
       "<div>\n",
       "<style scoped>\n",
       "    .dataframe tbody tr th:only-of-type {\n",
       "        vertical-align: middle;\n",
       "    }\n",
       "\n",
       "    .dataframe tbody tr th {\n",
       "        vertical-align: top;\n",
       "    }\n",
       "\n",
       "    .dataframe thead th {\n",
       "        text-align: right;\n",
       "    }\n",
       "</style>\n",
       "<table border=\"1\" class=\"dataframe\">\n",
       "  <thead>\n",
       "    <tr style=\"text-align: right;\">\n",
       "      <th></th>\n",
       "      <th>Product_Weight</th>\n",
       "      <th>Product_Fat_Content</th>\n",
       "      <th>Product_Shelf_Visibility</th>\n",
       "      <th>Product_Type</th>\n",
       "      <th>Product_Price</th>\n",
       "      <th>Supermarket_Opening_Year</th>\n",
       "      <th>Supermarket _Size</th>\n",
       "      <th>Supermarket_Location_Type</th>\n",
       "      <th>Supermarket_Type</th>\n",
       "      <th>Product_Supermarket_Sales</th>\n",
       "    </tr>\n",
       "  </thead>\n",
       "  <tbody>\n",
       "    <tr>\n",
       "      <th>0</th>\n",
       "      <td>8.785</td>\n",
       "      <td>Low Fat</td>\n",
       "      <td>0.020694</td>\n",
       "      <td>Soft Drinks</td>\n",
       "      <td>382.91</td>\n",
       "      <td>2014</td>\n",
       "      <td>Small</td>\n",
       "      <td>Cluster 2</td>\n",
       "      <td>Supermarket Type1</td>\n",
       "      <td>4633.97</td>\n",
       "    </tr>\n",
       "    <tr>\n",
       "      <th>1</th>\n",
       "      <td>18.600</td>\n",
       "      <td>Normal Fat</td>\n",
       "      <td>0.086078</td>\n",
       "      <td>Fruits and Vegetables</td>\n",
       "      <td>359.53</td>\n",
       "      <td>1992</td>\n",
       "      <td>Small</td>\n",
       "      <td>Cluster 1</td>\n",
       "      <td>Grocery Store</td>\n",
       "      <td>729.05</td>\n",
       "    </tr>\n",
       "    <tr>\n",
       "      <th>2</th>\n",
       "      <td>18.600</td>\n",
       "      <td>Low Fat</td>\n",
       "      <td>0.039517</td>\n",
       "      <td>Frozen Foods</td>\n",
       "      <td>609.20</td>\n",
       "      <td>2014</td>\n",
       "      <td>Medium</td>\n",
       "      <td>Cluster 2</td>\n",
       "      <td>Supermarket Type1</td>\n",
       "      <td>14740.81</td>\n",
       "    </tr>\n",
       "    <tr>\n",
       "      <th>3</th>\n",
       "      <td>14.000</td>\n",
       "      <td>Normal Fat</td>\n",
       "      <td>0.091780</td>\n",
       "      <td>Frozen Foods</td>\n",
       "      <td>456.32</td>\n",
       "      <td>1992</td>\n",
       "      <td>Medium</td>\n",
       "      <td>Cluster 3</td>\n",
       "      <td>Supermarket Type3</td>\n",
       "      <td>16137.33</td>\n",
       "    </tr>\n",
       "    <tr>\n",
       "      <th>4</th>\n",
       "      <td>14.000</td>\n",
       "      <td>Low Fat</td>\n",
       "      <td>0.023735</td>\n",
       "      <td>Baking Goods</td>\n",
       "      <td>258.08</td>\n",
       "      <td>2004</td>\n",
       "      <td>Small</td>\n",
       "      <td>Cluster 1</td>\n",
       "      <td>Supermarket Type1</td>\n",
       "      <td>4613.99</td>\n",
       "    </tr>\n",
       "  </tbody>\n",
       "</table>\n",
       "</div>"
      ],
      "text/plain": [
       "   Product_Weight Product_Fat_Content  Product_Shelf_Visibility  \\\n",
       "0           8.785             Low Fat                  0.020694   \n",
       "1          18.600          Normal Fat                  0.086078   \n",
       "2          18.600             Low Fat                  0.039517   \n",
       "3          14.000          Normal Fat                  0.091780   \n",
       "4          14.000             Low Fat                  0.023735   \n",
       "\n",
       "            Product_Type  Product_Price  Supermarket_Opening_Year  \\\n",
       "0            Soft Drinks         382.91                      2014   \n",
       "1  Fruits and Vegetables         359.53                      1992   \n",
       "2           Frozen Foods         609.20                      2014   \n",
       "3           Frozen Foods         456.32                      1992   \n",
       "4           Baking Goods         258.08                      2004   \n",
       "\n",
       "  Supermarket _Size Supermarket_Location_Type   Supermarket_Type  \\\n",
       "0             Small                 Cluster 2  Supermarket Type1   \n",
       "1             Small                 Cluster 1      Grocery Store   \n",
       "2            Medium                 Cluster 2  Supermarket Type1   \n",
       "3            Medium                 Cluster 3  Supermarket Type3   \n",
       "4             Small                 Cluster 1  Supermarket Type1   \n",
       "\n",
       "   Product_Supermarket_Sales  \n",
       "0                    4633.97  \n",
       "1                     729.05  \n",
       "2                   14740.81  \n",
       "3                   16137.33  \n",
       "4                    4613.99  "
      ]
     },
     "execution_count": 12,
     "metadata": {},
     "output_type": "execute_result"
    }
   ],
   "source": [
    "train.head()"
   ]
  },
  {
   "cell_type": "code",
   "execution_count": 13,
   "metadata": {},
   "outputs": [
    {
     "data": {
      "text/html": [
       "<div>\n",
       "<style scoped>\n",
       "    .dataframe tbody tr th:only-of-type {\n",
       "        vertical-align: middle;\n",
       "    }\n",
       "\n",
       "    .dataframe tbody tr th {\n",
       "        vertical-align: top;\n",
       "    }\n",
       "\n",
       "    .dataframe thead th {\n",
       "        text-align: right;\n",
       "    }\n",
       "</style>\n",
       "<table border=\"1\" class=\"dataframe\">\n",
       "  <thead>\n",
       "    <tr style=\"text-align: right;\">\n",
       "      <th>Product_Fat_Content</th>\n",
       "      <th>Low Fat</th>\n",
       "      <th>Normal Fat</th>\n",
       "      <th>Ultra Low fat</th>\n",
       "    </tr>\n",
       "    <tr>\n",
       "      <th>Supermarket _Size</th>\n",
       "      <th></th>\n",
       "      <th></th>\n",
       "      <th></th>\n",
       "    </tr>\n",
       "  </thead>\n",
       "  <tbody>\n",
       "    <tr>\n",
       "      <th>High</th>\n",
       "      <td>415</td>\n",
       "      <td>223</td>\n",
       "      <td>24</td>\n",
       "    </tr>\n",
       "    <tr>\n",
       "      <th>Medium</th>\n",
       "      <td>1008</td>\n",
       "      <td>616</td>\n",
       "      <td>52</td>\n",
       "    </tr>\n",
       "    <tr>\n",
       "      <th>Small</th>\n",
       "      <td>849</td>\n",
       "      <td>502</td>\n",
       "      <td>53</td>\n",
       "    </tr>\n",
       "  </tbody>\n",
       "</table>\n",
       "</div>"
      ],
      "text/plain": [
       "Product_Fat_Content  Low Fat  Normal Fat  Ultra Low fat\n",
       "Supermarket _Size                                      \n",
       "High                     415         223             24\n",
       "Medium                  1008         616             52\n",
       "Small                    849         502             53"
      ]
     },
     "execution_count": 13,
     "metadata": {},
     "output_type": "execute_result"
    }
   ],
   "source": [
    "pd.crosstab(train['Supermarket _Size'], train['Product_Fat_Content']).head()"
   ]
  },
  {
   "cell_type": "code",
   "execution_count": 14,
   "metadata": {},
   "outputs": [
    {
     "data": {
      "text/plain": [
       "Snack Foods              563\n",
       "Fruits and Vegetables    556\n",
       "Household                414\n",
       "Frozen Foods             334\n",
       "Canned                   294\n",
       "Dairy                    263\n",
       "Baking Goods             259\n",
       "Health and Hygiene       222\n",
       "Meat                     202\n",
       "Soft Drinks              193\n",
       "Breads                   115\n",
       "Hard Drinks               97\n",
       "Others                    82\n",
       "Starchy Foods             62\n",
       "Breakfast                 54\n",
       "Seafood                   32\n",
       "Name: Product_Type, dtype: int64"
      ]
     },
     "execution_count": 14,
     "metadata": {},
     "output_type": "execute_result"
    }
   ],
   "source": [
    "train['Product_Type'].value_counts()"
   ]
  },
  {
   "cell_type": "code",
   "execution_count": 15,
   "metadata": {},
   "outputs": [
    {
     "data": {
      "text/html": [
       "<div>\n",
       "<style scoped>\n",
       "    .dataframe tbody tr th:only-of-type {\n",
       "        vertical-align: middle;\n",
       "    }\n",
       "\n",
       "    .dataframe tbody tr th {\n",
       "        vertical-align: top;\n",
       "    }\n",
       "\n",
       "    .dataframe thead th {\n",
       "        text-align: right;\n",
       "    }\n",
       "</style>\n",
       "<table border=\"1\" class=\"dataframe\">\n",
       "  <thead>\n",
       "    <tr style=\"text-align: right;\">\n",
       "      <th></th>\n",
       "      <th>Product_Weight</th>\n",
       "      <th>Product_Fat_Content</th>\n",
       "      <th>Product_Shelf_Visibility</th>\n",
       "      <th>Product_Type</th>\n",
       "      <th>Product_Price</th>\n",
       "      <th>Supermarket_Opening_Year</th>\n",
       "      <th>Supermarket _Size</th>\n",
       "      <th>Supermarket_Location_Type</th>\n",
       "      <th>Supermarket_Type</th>\n",
       "      <th>Product_Supermarket_Sales</th>\n",
       "      <th>Health Content</th>\n",
       "    </tr>\n",
       "  </thead>\n",
       "  <tbody>\n",
       "    <tr>\n",
       "      <th>0</th>\n",
       "      <td>8.785</td>\n",
       "      <td>Low Fat</td>\n",
       "      <td>0.020694</td>\n",
       "      <td>Soft Drinks</td>\n",
       "      <td>382.91</td>\n",
       "      <td>2014</td>\n",
       "      <td>Small</td>\n",
       "      <td>Cluster 2</td>\n",
       "      <td>Supermarket Type1</td>\n",
       "      <td>4633.97</td>\n",
       "      <td>Unhealthy</td>\n",
       "    </tr>\n",
       "    <tr>\n",
       "      <th>1</th>\n",
       "      <td>18.600</td>\n",
       "      <td>Normal Fat</td>\n",
       "      <td>0.086078</td>\n",
       "      <td>Fruits and Vegetables</td>\n",
       "      <td>359.53</td>\n",
       "      <td>1992</td>\n",
       "      <td>Small</td>\n",
       "      <td>Cluster 1</td>\n",
       "      <td>Grocery Store</td>\n",
       "      <td>729.05</td>\n",
       "      <td>Healthy</td>\n",
       "    </tr>\n",
       "    <tr>\n",
       "      <th>2</th>\n",
       "      <td>18.600</td>\n",
       "      <td>Low Fat</td>\n",
       "      <td>0.039517</td>\n",
       "      <td>Frozen Foods</td>\n",
       "      <td>609.20</td>\n",
       "      <td>2014</td>\n",
       "      <td>Medium</td>\n",
       "      <td>Cluster 2</td>\n",
       "      <td>Supermarket Type1</td>\n",
       "      <td>14740.81</td>\n",
       "      <td>Probably Healthy</td>\n",
       "    </tr>\n",
       "    <tr>\n",
       "      <th>3</th>\n",
       "      <td>14.000</td>\n",
       "      <td>Normal Fat</td>\n",
       "      <td>0.091780</td>\n",
       "      <td>Frozen Foods</td>\n",
       "      <td>456.32</td>\n",
       "      <td>1992</td>\n",
       "      <td>Medium</td>\n",
       "      <td>Cluster 3</td>\n",
       "      <td>Supermarket Type3</td>\n",
       "      <td>16137.33</td>\n",
       "      <td>Probably Healthy</td>\n",
       "    </tr>\n",
       "    <tr>\n",
       "      <th>4</th>\n",
       "      <td>14.000</td>\n",
       "      <td>Low Fat</td>\n",
       "      <td>0.023735</td>\n",
       "      <td>Baking Goods</td>\n",
       "      <td>258.08</td>\n",
       "      <td>2004</td>\n",
       "      <td>Small</td>\n",
       "      <td>Cluster 1</td>\n",
       "      <td>Supermarket Type1</td>\n",
       "      <td>4613.99</td>\n",
       "      <td>Probably Healthy</td>\n",
       "    </tr>\n",
       "  </tbody>\n",
       "</table>\n",
       "</div>"
      ],
      "text/plain": [
       "   Product_Weight Product_Fat_Content  Product_Shelf_Visibility  \\\n",
       "0           8.785             Low Fat                  0.020694   \n",
       "1          18.600          Normal Fat                  0.086078   \n",
       "2          18.600             Low Fat                  0.039517   \n",
       "3          14.000          Normal Fat                  0.091780   \n",
       "4          14.000             Low Fat                  0.023735   \n",
       "\n",
       "            Product_Type  Product_Price  Supermarket_Opening_Year  \\\n",
       "0            Soft Drinks         382.91                      2014   \n",
       "1  Fruits and Vegetables         359.53                      1992   \n",
       "2           Frozen Foods         609.20                      2014   \n",
       "3           Frozen Foods         456.32                      1992   \n",
       "4           Baking Goods         258.08                      2004   \n",
       "\n",
       "  Supermarket _Size Supermarket_Location_Type   Supermarket_Type  \\\n",
       "0             Small                 Cluster 2  Supermarket Type1   \n",
       "1             Small                 Cluster 1      Grocery Store   \n",
       "2            Medium                 Cluster 2  Supermarket Type1   \n",
       "3            Medium                 Cluster 3  Supermarket Type3   \n",
       "4             Small                 Cluster 1  Supermarket Type1   \n",
       "\n",
       "   Product_Supermarket_Sales    Health Content  \n",
       "0                    4633.97         Unhealthy  \n",
       "1                     729.05           Healthy  \n",
       "2                   14740.81  Probably Healthy  \n",
       "3                   16137.33  Probably Healthy  \n",
       "4                    4613.99  Probably Healthy  "
      ]
     },
     "execution_count": 15,
     "metadata": {},
     "output_type": "execute_result"
    }
   ],
   "source": [
    "train[\"Health Content\"]=[\"Healthy\" \n",
    "                         if food==\"Seafood\"\n",
    "                         or food==\"Health and Hygiene\" \n",
    "                         or food==\"Dairy\"\n",
    "                         or food==\"Fruits and Vegetables\" \n",
    "                         else\n",
    "                         \"Unhealthy\"\n",
    "                         if food==\"Starchy Foods\"\n",
    "                         or food==\"Hard Drinks\"\n",
    "                         or food==\"Soft Drinks\"\n",
    "                         or food==\"Snack Foods\"\n",
    "                         else \"Probably Healthy\" \\\n",
    "for food in list(train[\"Product_Type\"].values)]\n",
    "\n",
    "train.head()"
   ]
  },
  {
   "cell_type": "code",
   "execution_count": 16,
   "metadata": {},
   "outputs": [
    {
     "data": {
      "text/plain": [
       "Probably Healthy    1754\n",
       "Healthy             1073\n",
       "Unhealthy            915\n",
       "Name: Health Content, dtype: int64"
      ]
     },
     "execution_count": 16,
     "metadata": {},
     "output_type": "execute_result"
    }
   ],
   "source": [
    "train['Health Content'].value_counts()"
   ]
  },
  {
   "cell_type": "code",
   "execution_count": 25,
   "metadata": {},
   "outputs": [],
   "source": [
    "#trnasforming categorical features into numerical values\n",
    "from sklearn.preprocessing import LabelEncoder\n",
    "le=LabelEncoder()\n",
    "train['Product_Fat_Content']=le.fit_transform(train['Product_Fat_Content'])\n",
    "train['Product_Type']=le.fit_transform(train['Product_Type'])\n",
    "train['Supermarket _Size']=le.fit_transform(train['Supermarket _Size'])\n",
    "train['Supermarket_Location_Type']=le.fit_transform(train['Supermarket_Location_Type'])\n",
    "train['Product_Fat_Content']=le.fit_transform(train['Product_Fat_Content'])\n",
    "train['Supermarket_Type']=le.fit_transform(train['Supermarket_Type'])\n",
    "train['Health Content']=le.fit_transform(train['Health Content'])"
   ]
  },
  {
   "cell_type": "code",
   "execution_count": 26,
   "metadata": {},
   "outputs": [
    {
     "data": {
      "text/html": [
       "<div>\n",
       "<style scoped>\n",
       "    .dataframe tbody tr th:only-of-type {\n",
       "        vertical-align: middle;\n",
       "    }\n",
       "\n",
       "    .dataframe tbody tr th {\n",
       "        vertical-align: top;\n",
       "    }\n",
       "\n",
       "    .dataframe thead th {\n",
       "        text-align: right;\n",
       "    }\n",
       "</style>\n",
       "<table border=\"1\" class=\"dataframe\">\n",
       "  <thead>\n",
       "    <tr style=\"text-align: right;\">\n",
       "      <th></th>\n",
       "      <th>Product_Weight</th>\n",
       "      <th>Product_Fat_Content</th>\n",
       "      <th>Product_Shelf_Visibility</th>\n",
       "      <th>Product_Type</th>\n",
       "      <th>Product_Price</th>\n",
       "      <th>Supermarket_Opening_Year</th>\n",
       "      <th>Supermarket _Size</th>\n",
       "      <th>Supermarket_Location_Type</th>\n",
       "      <th>Supermarket_Type</th>\n",
       "      <th>Product_Supermarket_Sales</th>\n",
       "      <th>Health Content</th>\n",
       "    </tr>\n",
       "  </thead>\n",
       "  <tbody>\n",
       "    <tr>\n",
       "      <th>0</th>\n",
       "      <td>8.785</td>\n",
       "      <td>0</td>\n",
       "      <td>0.020694</td>\n",
       "      <td>14</td>\n",
       "      <td>382.91</td>\n",
       "      <td>2014</td>\n",
       "      <td>2</td>\n",
       "      <td>1</td>\n",
       "      <td>1</td>\n",
       "      <td>4633.97</td>\n",
       "      <td>2</td>\n",
       "    </tr>\n",
       "    <tr>\n",
       "      <th>1</th>\n",
       "      <td>18.600</td>\n",
       "      <td>1</td>\n",
       "      <td>0.086078</td>\n",
       "      <td>6</td>\n",
       "      <td>359.53</td>\n",
       "      <td>1992</td>\n",
       "      <td>2</td>\n",
       "      <td>0</td>\n",
       "      <td>0</td>\n",
       "      <td>729.05</td>\n",
       "      <td>0</td>\n",
       "    </tr>\n",
       "    <tr>\n",
       "      <th>2</th>\n",
       "      <td>18.600</td>\n",
       "      <td>0</td>\n",
       "      <td>0.039517</td>\n",
       "      <td>5</td>\n",
       "      <td>609.20</td>\n",
       "      <td>2014</td>\n",
       "      <td>1</td>\n",
       "      <td>1</td>\n",
       "      <td>1</td>\n",
       "      <td>14740.81</td>\n",
       "      <td>1</td>\n",
       "    </tr>\n",
       "    <tr>\n",
       "      <th>3</th>\n",
       "      <td>14.000</td>\n",
       "      <td>1</td>\n",
       "      <td>0.091780</td>\n",
       "      <td>5</td>\n",
       "      <td>456.32</td>\n",
       "      <td>1992</td>\n",
       "      <td>1</td>\n",
       "      <td>2</td>\n",
       "      <td>3</td>\n",
       "      <td>16137.33</td>\n",
       "      <td>1</td>\n",
       "    </tr>\n",
       "    <tr>\n",
       "      <th>4</th>\n",
       "      <td>14.000</td>\n",
       "      <td>0</td>\n",
       "      <td>0.023735</td>\n",
       "      <td>0</td>\n",
       "      <td>258.08</td>\n",
       "      <td>2004</td>\n",
       "      <td>2</td>\n",
       "      <td>0</td>\n",
       "      <td>1</td>\n",
       "      <td>4613.99</td>\n",
       "      <td>1</td>\n",
       "    </tr>\n",
       "  </tbody>\n",
       "</table>\n",
       "</div>"
      ],
      "text/plain": [
       "   Product_Weight  Product_Fat_Content  Product_Shelf_Visibility  \\\n",
       "0           8.785                    0                  0.020694   \n",
       "1          18.600                    1                  0.086078   \n",
       "2          18.600                    0                  0.039517   \n",
       "3          14.000                    1                  0.091780   \n",
       "4          14.000                    0                  0.023735   \n",
       "\n",
       "   Product_Type  Product_Price  Supermarket_Opening_Year  Supermarket _Size  \\\n",
       "0            14         382.91                      2014                  2   \n",
       "1             6         359.53                      1992                  2   \n",
       "2             5         609.20                      2014                  1   \n",
       "3             5         456.32                      1992                  1   \n",
       "4             0         258.08                      2004                  2   \n",
       "\n",
       "   Supermarket_Location_Type  Supermarket_Type  Product_Supermarket_Sales  \\\n",
       "0                          1                 1                    4633.97   \n",
       "1                          0                 0                     729.05   \n",
       "2                          1                 1                   14740.81   \n",
       "3                          2                 3                   16137.33   \n",
       "4                          0                 1                    4613.99   \n",
       "\n",
       "   Health Content  \n",
       "0               2  \n",
       "1               0  \n",
       "2               1  \n",
       "3               1  \n",
       "4               1  "
      ]
     },
     "execution_count": 26,
     "metadata": {},
     "output_type": "execute_result"
    }
   ],
   "source": [
    "train.head()"
   ]
  },
  {
   "cell_type": "code",
   "execution_count": 27,
   "metadata": {},
   "outputs": [
    {
     "data": {
      "text/plain": [
       "1    2495\n",
       "0     543\n",
       "2     358\n",
       "3     346\n",
       "Name: Supermarket_Type, dtype: int64"
      ]
     },
     "execution_count": 27,
     "metadata": {},
     "output_type": "execute_result"
    }
   ],
   "source": [
    "train[\"Supermarket_Type\"].value_counts()"
   ]
  },
  {
   "cell_type": "code",
   "execution_count": 28,
   "metadata": {},
   "outputs": [
    {
     "data": {
      "text/plain": [
       "0    2272\n",
       "1    1341\n",
       "2     129\n",
       "Name: Product_Fat_Content, dtype: int64"
      ]
     },
     "execution_count": 28,
     "metadata": {},
     "output_type": "execute_result"
    }
   ],
   "source": [
    "train['Product_Fat_Content'].value_counts()"
   ]
  },
  {
   "cell_type": "code",
   "execution_count": 29,
   "metadata": {},
   "outputs": [
    {
     "data": {
      "text/plain": [
       "2    1438\n",
       "1    1210\n",
       "0    1094\n",
       "Name: Supermarket_Location_Type, dtype: int64"
      ]
     },
     "execution_count": 29,
     "metadata": {},
     "output_type": "execute_result"
    }
   ],
   "source": [
    "train['Supermarket_Location_Type'].value_counts()"
   ]
  },
  {
   "cell_type": "code",
   "execution_count": 30,
   "metadata": {},
   "outputs": [
    {
     "data": {
      "text/plain": [
       "1    1676\n",
       "2    1404\n",
       "0     662\n",
       "Name: Supermarket _Size, dtype: int64"
      ]
     },
     "execution_count": 30,
     "metadata": {},
     "output_type": "execute_result"
    }
   ],
   "source": [
    "train['Supermarket _Size'].value_counts()"
   ]
  },
  {
   "cell_type": "code",
   "execution_count": 31,
   "metadata": {},
   "outputs": [
    {
     "data": {
      "text/plain": [
       "0    2272\n",
       "1    1341\n",
       "2     129\n",
       "Name: Product_Fat_Content, dtype: int64"
      ]
     },
     "execution_count": 31,
     "metadata": {},
     "output_type": "execute_result"
    }
   ],
   "source": [
    "train['Product_Fat_Content'].value_counts()"
   ]
  },
  {
   "cell_type": "code",
   "execution_count": 32,
   "metadata": {},
   "outputs": [
    {
     "data": {
      "text/plain": [
       "1    1754\n",
       "0    1073\n",
       "2     915\n",
       "Name: Health Content, dtype: int64"
      ]
     },
     "execution_count": 32,
     "metadata": {},
     "output_type": "execute_result"
    }
   ],
   "source": [
    "train['Health Content'].value_counts()"
   ]
  },
  {
   "cell_type": "code",
   "execution_count": null,
   "metadata": {},
   "outputs": [],
   "source": []
  },
  {
   "cell_type": "code",
   "execution_count": 33,
   "metadata": {},
   "outputs": [
    {
     "data": {
      "text/html": [
       "<div>\n",
       "<style scoped>\n",
       "    .dataframe tbody tr th:only-of-type {\n",
       "        vertical-align: middle;\n",
       "    }\n",
       "\n",
       "    .dataframe tbody tr th {\n",
       "        vertical-align: top;\n",
       "    }\n",
       "\n",
       "    .dataframe thead th {\n",
       "        text-align: right;\n",
       "    }\n",
       "</style>\n",
       "<table border=\"1\" class=\"dataframe\">\n",
       "  <thead>\n",
       "    <tr style=\"text-align: right;\">\n",
       "      <th></th>\n",
       "      <th>Product_Identifier</th>\n",
       "      <th>Supermarket_Identifier</th>\n",
       "      <th>Product_Supermarket_Identifier</th>\n",
       "      <th>Product_Weight</th>\n",
       "      <th>Product_Fat_Content</th>\n",
       "      <th>Product_Shelf_Visibility</th>\n",
       "      <th>Product_Type</th>\n",
       "      <th>Product_Price</th>\n",
       "      <th>Supermarket_Opening_Year</th>\n",
       "      <th>Supermarket _Size</th>\n",
       "      <th>Supermarket_Location_Type</th>\n",
       "      <th>Supermarket_Type</th>\n",
       "    </tr>\n",
       "  </thead>\n",
       "  <tbody>\n",
       "    <tr>\n",
       "      <th>0</th>\n",
       "      <td>FDC15</td>\n",
       "      <td>CHUKWUDI049</td>\n",
       "      <td>FDC15_CHUKWUDI049</td>\n",
       "      <td>18.100</td>\n",
       "      <td>Low Fat</td>\n",
       "      <td>0.178246</td>\n",
       "      <td>Dairy</td>\n",
       "      <td>395.32</td>\n",
       "      <td>2006</td>\n",
       "      <td>Medium</td>\n",
       "      <td>Cluster 1</td>\n",
       "      <td>Supermarket Type1</td>\n",
       "    </tr>\n",
       "    <tr>\n",
       "      <th>1</th>\n",
       "      <td>NCY06</td>\n",
       "      <td>CHUKWUDI018</td>\n",
       "      <td>NCY06_CHUKWUDI018</td>\n",
       "      <td>15.250</td>\n",
       "      <td>Low Fat</td>\n",
       "      <td>0.061434</td>\n",
       "      <td>Household</td>\n",
       "      <td>327.49</td>\n",
       "      <td>2016</td>\n",
       "      <td>Medium</td>\n",
       "      <td>Cluster 3</td>\n",
       "      <td>Supermarket Type2</td>\n",
       "    </tr>\n",
       "    <tr>\n",
       "      <th>2</th>\n",
       "      <td>DRB24</td>\n",
       "      <td>CHUKWUDI035</td>\n",
       "      <td>DRB24_CHUKWUDI035</td>\n",
       "      <td>8.785</td>\n",
       "      <td>Low Fat</td>\n",
       "      <td>0.020573</td>\n",
       "      <td>Soft Drinks</td>\n",
       "      <td>391.16</td>\n",
       "      <td>2011</td>\n",
       "      <td>Small</td>\n",
       "      <td>Cluster 2</td>\n",
       "      <td>Supermarket Type1</td>\n",
       "    </tr>\n",
       "    <tr>\n",
       "      <th>3</th>\n",
       "      <td>NCG54</td>\n",
       "      <td>CHUKWUDI018</td>\n",
       "      <td>NCG54_CHUKWUDI018</td>\n",
       "      <td>12.100</td>\n",
       "      <td>Low Fat</td>\n",
       "      <td>0.080131</td>\n",
       "      <td>Household</td>\n",
       "      <td>427.28</td>\n",
       "      <td>2016</td>\n",
       "      <td>Medium</td>\n",
       "      <td>Cluster 3</td>\n",
       "      <td>Supermarket Type2</td>\n",
       "    </tr>\n",
       "    <tr>\n",
       "      <th>4</th>\n",
       "      <td>NCA42</td>\n",
       "      <td>CHUKWUDI017</td>\n",
       "      <td>NCA42_CHUKWUDI017</td>\n",
       "      <td>6.965</td>\n",
       "      <td>Low Fat</td>\n",
       "      <td>0.028710</td>\n",
       "      <td>Household</td>\n",
       "      <td>395.40</td>\n",
       "      <td>2014</td>\n",
       "      <td>NaN</td>\n",
       "      <td>Cluster 2</td>\n",
       "      <td>Supermarket Type1</td>\n",
       "    </tr>\n",
       "  </tbody>\n",
       "</table>\n",
       "</div>"
      ],
      "text/plain": [
       "  Product_Identifier Supermarket_Identifier Product_Supermarket_Identifier  \\\n",
       "0              FDC15            CHUKWUDI049              FDC15_CHUKWUDI049   \n",
       "1              NCY06            CHUKWUDI018              NCY06_CHUKWUDI018   \n",
       "2              DRB24            CHUKWUDI035              DRB24_CHUKWUDI035   \n",
       "3              NCG54            CHUKWUDI018              NCG54_CHUKWUDI018   \n",
       "4              NCA42            CHUKWUDI017              NCA42_CHUKWUDI017   \n",
       "\n",
       "   Product_Weight Product_Fat_Content  Product_Shelf_Visibility Product_Type  \\\n",
       "0          18.100             Low Fat                  0.178246        Dairy   \n",
       "1          15.250             Low Fat                  0.061434    Household   \n",
       "2           8.785             Low Fat                  0.020573  Soft Drinks   \n",
       "3          12.100             Low Fat                  0.080131    Household   \n",
       "4           6.965             Low Fat                  0.028710    Household   \n",
       "\n",
       "   Product_Price  Supermarket_Opening_Year Supermarket _Size  \\\n",
       "0         395.32                      2006            Medium   \n",
       "1         327.49                      2016            Medium   \n",
       "2         391.16                      2011             Small   \n",
       "3         427.28                      2016            Medium   \n",
       "4         395.40                      2014               NaN   \n",
       "\n",
       "  Supermarket_Location_Type   Supermarket_Type  \n",
       "0                 Cluster 1  Supermarket Type1  \n",
       "1                 Cluster 3  Supermarket Type2  \n",
       "2                 Cluster 2  Supermarket Type1  \n",
       "3                 Cluster 3  Supermarket Type2  \n",
       "4                 Cluster 2  Supermarket Type1  "
      ]
     },
     "execution_count": 33,
     "metadata": {},
     "output_type": "execute_result"
    }
   ],
   "source": [
    "test.head()"
   ]
  },
  {
   "cell_type": "code",
   "execution_count": 34,
   "metadata": {},
   "outputs": [
    {
     "data": {
      "text/plain": [
       "(1248, 12)"
      ]
     },
     "execution_count": 34,
     "metadata": {},
     "output_type": "execute_result"
    }
   ],
   "source": [
    "test.shape"
   ]
  },
  {
   "cell_type": "markdown",
   "metadata": {},
   "source": [
    "# exploration of data,preprocessing and feature engineering"
   ]
  },
  {
   "cell_type": "markdown",
   "metadata": {},
   "source": [
    "test data"
   ]
  },
  {
   "cell_type": "code",
   "execution_count": 35,
   "metadata": {},
   "outputs": [
    {
     "name": "stdout",
     "output_type": "stream",
     "text": [
      "<class 'pandas.core.frame.DataFrame'>\n",
      "RangeIndex: 1248 entries, 0 to 1247\n",
      "Data columns (total 12 columns):\n",
      " #   Column                          Non-Null Count  Dtype  \n",
      "---  ------                          --------------  -----  \n",
      " 0   Product_Identifier              1248 non-null   object \n",
      " 1   Supermarket_Identifier          1248 non-null   object \n",
      " 2   Product_Supermarket_Identifier  1248 non-null   object \n",
      " 3   Product_Weight                  1047 non-null   float64\n",
      " 4   Product_Fat_Content             1248 non-null   object \n",
      " 5   Product_Shelf_Visibility        1248 non-null   float64\n",
      " 6   Product_Type                    1248 non-null   object \n",
      " 7   Product_Price                   1248 non-null   float64\n",
      " 8   Supermarket_Opening_Year        1248 non-null   int64  \n",
      " 9   Supermarket _Size               924 non-null    object \n",
      " 10  Supermarket_Location_Type       1248 non-null   object \n",
      " 11  Supermarket_Type                1248 non-null   object \n",
      "dtypes: float64(3), int64(1), object(8)\n",
      "memory usage: 117.1+ KB\n"
     ]
    }
   ],
   "source": [
    "test.info()"
   ]
  },
  {
   "cell_type": "code",
   "execution_count": 36,
   "metadata": {},
   "outputs": [
    {
     "data": {
      "text/html": [
       "<div>\n",
       "<style scoped>\n",
       "    .dataframe tbody tr th:only-of-type {\n",
       "        vertical-align: middle;\n",
       "    }\n",
       "\n",
       "    .dataframe tbody tr th {\n",
       "        vertical-align: top;\n",
       "    }\n",
       "\n",
       "    .dataframe thead th {\n",
       "        text-align: right;\n",
       "    }\n",
       "</style>\n",
       "<table border=\"1\" class=\"dataframe\">\n",
       "  <thead>\n",
       "    <tr style=\"text-align: right;\">\n",
       "      <th></th>\n",
       "      <th>Product_Weight</th>\n",
       "      <th>Product_Shelf_Visibility</th>\n",
       "      <th>Product_Price</th>\n",
       "      <th>Supermarket_Opening_Year</th>\n",
       "    </tr>\n",
       "  </thead>\n",
       "  <tbody>\n",
       "    <tr>\n",
       "      <th>count</th>\n",
       "      <td>1047.000000</td>\n",
       "      <td>1248.000000</td>\n",
       "      <td>1248.000000</td>\n",
       "      <td>1248.000000</td>\n",
       "    </tr>\n",
       "    <tr>\n",
       "      <th>mean</th>\n",
       "      <td>13.023434</td>\n",
       "      <td>0.067825</td>\n",
       "      <td>391.769255</td>\n",
       "      <td>2004.798878</td>\n",
       "    </tr>\n",
       "    <tr>\n",
       "      <th>std</th>\n",
       "      <td>4.621107</td>\n",
       "      <td>0.053390</td>\n",
       "      <td>116.914230</td>\n",
       "      <td>8.305732</td>\n",
       "    </tr>\n",
       "    <tr>\n",
       "      <th>min</th>\n",
       "      <td>4.555000</td>\n",
       "      <td>0.000000</td>\n",
       "      <td>84.220000</td>\n",
       "      <td>1992.000000</td>\n",
       "    </tr>\n",
       "    <tr>\n",
       "      <th>25%</th>\n",
       "      <td>8.985000</td>\n",
       "      <td>0.028697</td>\n",
       "      <td>307.700000</td>\n",
       "      <td>1994.000000</td>\n",
       "    </tr>\n",
       "    <tr>\n",
       "      <th>50%</th>\n",
       "      <td>12.850000</td>\n",
       "      <td>0.053678</td>\n",
       "      <td>392.990000</td>\n",
       "      <td>2006.000000</td>\n",
       "    </tr>\n",
       "    <tr>\n",
       "      <th>75%</th>\n",
       "      <td>17.000000</td>\n",
       "      <td>0.096293</td>\n",
       "      <td>459.280000</td>\n",
       "      <td>2011.000000</td>\n",
       "    </tr>\n",
       "    <tr>\n",
       "      <th>max</th>\n",
       "      <td>21.250000</td>\n",
       "      <td>0.325781</td>\n",
       "      <td>664.220000</td>\n",
       "      <td>2016.000000</td>\n",
       "    </tr>\n",
       "  </tbody>\n",
       "</table>\n",
       "</div>"
      ],
      "text/plain": [
       "       Product_Weight  Product_Shelf_Visibility  Product_Price  \\\n",
       "count     1047.000000               1248.000000    1248.000000   \n",
       "mean        13.023434                  0.067825     391.769255   \n",
       "std          4.621107                  0.053390     116.914230   \n",
       "min          4.555000                  0.000000      84.220000   \n",
       "25%          8.985000                  0.028697     307.700000   \n",
       "50%         12.850000                  0.053678     392.990000   \n",
       "75%         17.000000                  0.096293     459.280000   \n",
       "max         21.250000                  0.325781     664.220000   \n",
       "\n",
       "       Supermarket_Opening_Year  \n",
       "count               1248.000000  \n",
       "mean                2004.798878  \n",
       "std                    8.305732  \n",
       "min                 1992.000000  \n",
       "25%                 1994.000000  \n",
       "50%                 2006.000000  \n",
       "75%                 2011.000000  \n",
       "max                 2016.000000  "
      ]
     },
     "execution_count": 36,
     "metadata": {},
     "output_type": "execute_result"
    }
   ],
   "source": [
    "test.describe()"
   ]
  },
  {
   "cell_type": "code",
   "execution_count": 37,
   "metadata": {},
   "outputs": [
    {
     "data": {
      "text/plain": [
       "Product_Identifier                  0\n",
       "Supermarket_Identifier              0\n",
       "Product_Supermarket_Identifier      0\n",
       "Product_Weight                    201\n",
       "Product_Fat_Content                 0\n",
       "Product_Shelf_Visibility            0\n",
       "Product_Type                        0\n",
       "Product_Price                       0\n",
       "Supermarket_Opening_Year            0\n",
       "Supermarket _Size                 324\n",
       "Supermarket_Location_Type           0\n",
       "Supermarket_Type                    0\n",
       "dtype: int64"
      ]
     },
     "execution_count": 37,
     "metadata": {},
     "output_type": "execute_result"
    }
   ],
   "source": [
    "test.isnull().sum()"
   ]
  },
  {
   "cell_type": "code",
   "execution_count": 38,
   "metadata": {},
   "outputs": [
    {
     "data": {
      "text/plain": [
       "<matplotlib.axes._subplots.AxesSubplot at 0xbc05630>"
      ]
     },
     "execution_count": 38,
     "metadata": {},
     "output_type": "execute_result"
    },
    {
     "data": {
      "image/png": "[encoded data removed]",
      "text/plain": [
       "<Figure size 432x288 with 1 Axes>"
      ]
     },
     "metadata": {
      "needs_background": "light"
     },
     "output_type": "display_data"
    }
   ],
   "source": [
    "sns.heatmap(test.isnull(),yticklabels=False,cbar=False) "
   ]
  },
  {
   "cell_type": "code",
   "execution_count": 39,
   "metadata": {},
   "outputs": [],
   "source": [
    "test=test.fillna(method='bfill') "
   ]
  },
  {
   "cell_type": "code",
   "execution_count": 40,
   "metadata": {},
   "outputs": [
    {
     "data": {
      "text/plain": [
       "<matplotlib.axes._subplots.AxesSubplot at 0xb6a1898>"
      ]
     },
     "execution_count": 40,
     "metadata": {},
     "output_type": "execute_result"
    },
    {
     "data": {
      "image/png": "[encoded data removed]",
      "text/plain": [
       "<Figure size 432x288 with 1 Axes>"
      ]
     },
     "metadata": {
      "needs_background": "light"
     },
     "output_type": "display_data"
    }
   ],
   "source": [
    "sns.heatmap(test.isnull(),yticklabels=False,cbar=False)"
   ]
  },
  {
   "cell_type": "code",
   "execution_count": 41,
   "metadata": {},
   "outputs": [
    {
     "data": {
      "text/plain": [
       "<seaborn.axisgrid.PairGrid at 0xb839fd0>"
      ]
     },
     "execution_count": 41,
     "metadata": {},
     "output_type": "execute_result"
    },
    {
     "data": {
      "image/png": "[encoded data removed]",
      "text/plain": [
       "<Figure size 720x720 with 20 Axes>"
      ]
     },
     "metadata": {
      "needs_background": "light"
     },
     "output_type": "display_data"
    }
   ],
   "source": [
    "sns.pairplot(test)"
   ]
  },
  {
   "cell_type": "code",
   "execution_count": 42,
   "metadata": {},
   "outputs": [
    {
     "data": {
      "text/plain": [
       "<matplotlib.axes._subplots.AxesSubplot at 0xc4ad898>"
      ]
     },
     "execution_count": 42,
     "metadata": {},
     "output_type": "execute_result"
    },
    {
     "data": {
      "image/png": "[encoded data removed]",
      "text/plain": [
       "<Figure size 432x288 with 2 Axes>"
      ]
     },
     "metadata": {
      "needs_background": "light"
     },
     "output_type": "display_data"
    }
   ],
   "source": [
    " #checking the correlation of the values\n",
    "sns.heatmap(test.corr(),annot=True) #checking the correlation of the values"
   ]
  },
  {
   "cell_type": "code",
   "execution_count": 43,
   "metadata": {},
   "outputs": [],
   "source": [
    "#dropping columns\n",
    "test.drop([\"Product_Identifier\",\"Supermarket_Identifier\",\"Product_Supermarket_Identifier\"],axis=1,inplace=True)"
   ]
  },
  {
   "cell_type": "code",
   "execution_count": 44,
   "metadata": {},
   "outputs": [
    {
     "data": {
      "text/html": [
       "<div>\n",
       "<style scoped>\n",
       "    .dataframe tbody tr th:only-of-type {\n",
       "        vertical-align: middle;\n",
       "    }\n",
       "\n",
       "    .dataframe tbody tr th {\n",
       "        vertical-align: top;\n",
       "    }\n",
       "\n",
       "    .dataframe thead th {\n",
       "        text-align: right;\n",
       "    }\n",
       "</style>\n",
       "<table border=\"1\" class=\"dataframe\">\n",
       "  <thead>\n",
       "    <tr style=\"text-align: right;\">\n",
       "      <th></th>\n",
       "      <th>Product_Weight</th>\n",
       "      <th>Product_Fat_Content</th>\n",
       "      <th>Product_Shelf_Visibility</th>\n",
       "      <th>Product_Type</th>\n",
       "      <th>Product_Price</th>\n",
       "      <th>Supermarket_Opening_Year</th>\n",
       "      <th>Supermarket _Size</th>\n",
       "      <th>Supermarket_Location_Type</th>\n",
       "      <th>Supermarket_Type</th>\n",
       "    </tr>\n",
       "  </thead>\n",
       "  <tbody>\n",
       "    <tr>\n",
       "      <th>0</th>\n",
       "      <td>18.100</td>\n",
       "      <td>Low Fat</td>\n",
       "      <td>0.178246</td>\n",
       "      <td>Dairy</td>\n",
       "      <td>395.32</td>\n",
       "      <td>2006</td>\n",
       "      <td>Medium</td>\n",
       "      <td>Cluster 1</td>\n",
       "      <td>Supermarket Type1</td>\n",
       "    </tr>\n",
       "    <tr>\n",
       "      <th>1</th>\n",
       "      <td>15.250</td>\n",
       "      <td>Low Fat</td>\n",
       "      <td>0.061434</td>\n",
       "      <td>Household</td>\n",
       "      <td>327.49</td>\n",
       "      <td>2016</td>\n",
       "      <td>Medium</td>\n",
       "      <td>Cluster 3</td>\n",
       "      <td>Supermarket Type2</td>\n",
       "    </tr>\n",
       "    <tr>\n",
       "      <th>2</th>\n",
       "      <td>8.785</td>\n",
       "      <td>Low Fat</td>\n",
       "      <td>0.020573</td>\n",
       "      <td>Soft Drinks</td>\n",
       "      <td>391.16</td>\n",
       "      <td>2011</td>\n",
       "      <td>Small</td>\n",
       "      <td>Cluster 2</td>\n",
       "      <td>Supermarket Type1</td>\n",
       "    </tr>\n",
       "    <tr>\n",
       "      <th>3</th>\n",
       "      <td>12.100</td>\n",
       "      <td>Low Fat</td>\n",
       "      <td>0.080131</td>\n",
       "      <td>Household</td>\n",
       "      <td>427.28</td>\n",
       "      <td>2016</td>\n",
       "      <td>Medium</td>\n",
       "      <td>Cluster 3</td>\n",
       "      <td>Supermarket Type2</td>\n",
       "    </tr>\n",
       "    <tr>\n",
       "      <th>4</th>\n",
       "      <td>6.965</td>\n",
       "      <td>Low Fat</td>\n",
       "      <td>0.028710</td>\n",
       "      <td>Household</td>\n",
       "      <td>395.40</td>\n",
       "      <td>2014</td>\n",
       "      <td>High</td>\n",
       "      <td>Cluster 2</td>\n",
       "      <td>Supermarket Type1</td>\n",
       "    </tr>\n",
       "  </tbody>\n",
       "</table>\n",
       "</div>"
      ],
      "text/plain": [
       "   Product_Weight Product_Fat_Content  Product_Shelf_Visibility Product_Type  \\\n",
       "0          18.100             Low Fat                  0.178246        Dairy   \n",
       "1          15.250             Low Fat                  0.061434    Household   \n",
       "2           8.785             Low Fat                  0.020573  Soft Drinks   \n",
       "3          12.100             Low Fat                  0.080131    Household   \n",
       "4           6.965             Low Fat                  0.028710    Household   \n",
       "\n",
       "   Product_Price  Supermarket_Opening_Year Supermarket _Size  \\\n",
       "0         395.32                      2006            Medium   \n",
       "1         327.49                      2016            Medium   \n",
       "2         391.16                      2011             Small   \n",
       "3         427.28                      2016            Medium   \n",
       "4         395.40                      2014              High   \n",
       "\n",
       "  Supermarket_Location_Type   Supermarket_Type  \n",
       "0                 Cluster 1  Supermarket Type1  \n",
       "1                 Cluster 3  Supermarket Type2  \n",
       "2                 Cluster 2  Supermarket Type1  \n",
       "3                 Cluster 3  Supermarket Type2  \n",
       "4                 Cluster 2  Supermarket Type1  "
      ]
     },
     "execution_count": 44,
     "metadata": {},
     "output_type": "execute_result"
    }
   ],
   "source": [
    "test.head()"
   ]
  },
  {
   "cell_type": "code",
   "execution_count": 45,
   "metadata": {},
   "outputs": [
    {
     "data": {
      "text/plain": [
       "Snack Foods              195\n",
       "Fruits and Vegetables    191\n",
       "Household                153\n",
       "Frozen Foods             123\n",
       "Dairy                     87\n",
       "Baking Goods              85\n",
       "Health and Hygiene        85\n",
       "Canned                    82\n",
       "Soft Drinks               68\n",
       "Meat                      62\n",
       "Hard Drinks               37\n",
       "Breads                    22\n",
       "Starchy Foods             19\n",
       "Others                    18\n",
       "Breakfast                 12\n",
       "Seafood                    9\n",
       "Name: Product_Type, dtype: int64"
      ]
     },
     "execution_count": 45,
     "metadata": {},
     "output_type": "execute_result"
    }
   ],
   "source": [
    "pd.crosstab(test['Supermarket _Size'], test['Product_Fat_Content']).head()\n",
    "test['Product_Type'].value_counts()"
   ]
  },
  {
   "cell_type": "code",
   "execution_count": 46,
   "metadata": {},
   "outputs": [],
   "source": [
    "test[\"Health Content\"]=[\"Healthy\" \n",
    "                         if food==\"Seafood\"\n",
    "                         or food==\"Health and Hygiene\" \n",
    "                         or food==\"Dairy\"\n",
    "                         or food==\"Fruits and Vegetables\" \n",
    "                         else\n",
    "                         \"Unhealthy\"\n",
    "                         if food==\"Starchy Foods\"\n",
    "                         or food==\"Hard Drinks\"\n",
    "                         or food==\"Soft Drinks\"\n",
    "                         or food==\"Snack Foods\"\n",
    "                         else \"Probably Healthy\" \\\n",
    "for food in list(test[\"Product_Type\"].values)]"
   ]
  },
  {
   "cell_type": "code",
   "execution_count": 47,
   "metadata": {},
   "outputs": [
    {
     "data": {
      "text/html": [
       "<div>\n",
       "<style scoped>\n",
       "    .dataframe tbody tr th:only-of-type {\n",
       "        vertical-align: middle;\n",
       "    }\n",
       "\n",
       "    .dataframe tbody tr th {\n",
       "        vertical-align: top;\n",
       "    }\n",
       "\n",
       "    .dataframe thead th {\n",
       "        text-align: right;\n",
       "    }\n",
       "</style>\n",
       "<table border=\"1\" class=\"dataframe\">\n",
       "  <thead>\n",
       "    <tr style=\"text-align: right;\">\n",
       "      <th></th>\n",
       "      <th>Product_Weight</th>\n",
       "      <th>Product_Fat_Content</th>\n",
       "      <th>Product_Shelf_Visibility</th>\n",
       "      <th>Product_Type</th>\n",
       "      <th>Product_Price</th>\n",
       "      <th>Supermarket_Opening_Year</th>\n",
       "      <th>Supermarket _Size</th>\n",
       "      <th>Supermarket_Location_Type</th>\n",
       "      <th>Supermarket_Type</th>\n",
       "      <th>Health Content</th>\n",
       "    </tr>\n",
       "  </thead>\n",
       "  <tbody>\n",
       "    <tr>\n",
       "      <th>0</th>\n",
       "      <td>18.100</td>\n",
       "      <td>Low Fat</td>\n",
       "      <td>0.178246</td>\n",
       "      <td>Dairy</td>\n",
       "      <td>395.32</td>\n",
       "      <td>2006</td>\n",
       "      <td>Medium</td>\n",
       "      <td>Cluster 1</td>\n",
       "      <td>Supermarket Type1</td>\n",
       "      <td>Healthy</td>\n",
       "    </tr>\n",
       "    <tr>\n",
       "      <th>1</th>\n",
       "      <td>15.250</td>\n",
       "      <td>Low Fat</td>\n",
       "      <td>0.061434</td>\n",
       "      <td>Household</td>\n",
       "      <td>327.49</td>\n",
       "      <td>2016</td>\n",
       "      <td>Medium</td>\n",
       "      <td>Cluster 3</td>\n",
       "      <td>Supermarket Type2</td>\n",
       "      <td>Probably Healthy</td>\n",
       "    </tr>\n",
       "    <tr>\n",
       "      <th>2</th>\n",
       "      <td>8.785</td>\n",
       "      <td>Low Fat</td>\n",
       "      <td>0.020573</td>\n",
       "      <td>Soft Drinks</td>\n",
       "      <td>391.16</td>\n",
       "      <td>2011</td>\n",
       "      <td>Small</td>\n",
       "      <td>Cluster 2</td>\n",
       "      <td>Supermarket Type1</td>\n",
       "      <td>Unhealthy</td>\n",
       "    </tr>\n",
       "    <tr>\n",
       "      <th>3</th>\n",
       "      <td>12.100</td>\n",
       "      <td>Low Fat</td>\n",
       "      <td>0.080131</td>\n",
       "      <td>Household</td>\n",
       "      <td>427.28</td>\n",
       "      <td>2016</td>\n",
       "      <td>Medium</td>\n",
       "      <td>Cluster 3</td>\n",
       "      <td>Supermarket Type2</td>\n",
       "      <td>Probably Healthy</td>\n",
       "    </tr>\n",
       "    <tr>\n",
       "      <th>4</th>\n",
       "      <td>6.965</td>\n",
       "      <td>Low Fat</td>\n",
       "      <td>0.028710</td>\n",
       "      <td>Household</td>\n",
       "      <td>395.40</td>\n",
       "      <td>2014</td>\n",
       "      <td>High</td>\n",
       "      <td>Cluster 2</td>\n",
       "      <td>Supermarket Type1</td>\n",
       "      <td>Probably Healthy</td>\n",
       "    </tr>\n",
       "  </tbody>\n",
       "</table>\n",
       "</div>"
      ],
      "text/plain": [
       "   Product_Weight Product_Fat_Content  Product_Shelf_Visibility Product_Type  \\\n",
       "0          18.100             Low Fat                  0.178246        Dairy   \n",
       "1          15.250             Low Fat                  0.061434    Household   \n",
       "2           8.785             Low Fat                  0.020573  Soft Drinks   \n",
       "3          12.100             Low Fat                  0.080131    Household   \n",
       "4           6.965             Low Fat                  0.028710    Household   \n",
       "\n",
       "   Product_Price  Supermarket_Opening_Year Supermarket _Size  \\\n",
       "0         395.32                      2006            Medium   \n",
       "1         327.49                      2016            Medium   \n",
       "2         391.16                      2011             Small   \n",
       "3         427.28                      2016            Medium   \n",
       "4         395.40                      2014              High   \n",
       "\n",
       "  Supermarket_Location_Type   Supermarket_Type    Health Content  \n",
       "0                 Cluster 1  Supermarket Type1           Healthy  \n",
       "1                 Cluster 3  Supermarket Type2  Probably Healthy  \n",
       "2                 Cluster 2  Supermarket Type1         Unhealthy  \n",
       "3                 Cluster 3  Supermarket Type2  Probably Healthy  \n",
       "4                 Cluster 2  Supermarket Type1  Probably Healthy  "
      ]
     },
     "execution_count": 47,
     "metadata": {},
     "output_type": "execute_result"
    }
   ],
   "source": [
    "test.head()"
   ]
  },
  {
   "cell_type": "code",
   "execution_count": 48,
   "metadata": {},
   "outputs": [
    {
     "data": {
      "text/plain": [
       "Probably Healthy    557\n",
       "Healthy             372\n",
       "Unhealthy           319\n",
       "Name: Health Content, dtype: int64"
      ]
     },
     "execution_count": 48,
     "metadata": {},
     "output_type": "execute_result"
    }
   ],
   "source": [
    "test['Health Content'].value_counts()"
   ]
  },
  {
   "cell_type": "code",
   "execution_count": 49,
   "metadata": {},
   "outputs": [
    {
     "data": {
      "text/plain": [
       "Supermarket Type1    809\n",
       "Grocery Store        181\n",
       "Supermarket Type2    142\n",
       "Supermarket Type3    116\n",
       "Name: Supermarket_Type, dtype: int64"
      ]
     },
     "execution_count": 49,
     "metadata": {},
     "output_type": "execute_result"
    }
   ],
   "source": [
    "test[\"Supermarket_Type\"].value_counts()"
   ]
  },
  {
   "cell_type": "code",
   "execution_count": 50,
   "metadata": {},
   "outputs": [
    {
     "data": {
      "text/plain": [
       "Low Fat          767\n",
       "Normal Fat       432\n",
       "Ultra Low fat     49\n",
       "Name: Product_Fat_Content, dtype: int64"
      ]
     },
     "execution_count": 50,
     "metadata": {},
     "output_type": "execute_result"
    }
   ],
   "source": [
    "test['Product_Fat_Content'].value_counts()"
   ]
  },
  {
   "cell_type": "code",
   "execution_count": 51,
   "metadata": {},
   "outputs": [
    {
     "data": {
      "text/plain": [
       "Cluster 3    502\n",
       "Cluster 1    375\n",
       "Cluster 2    371\n",
       "Name: Supermarket_Location_Type, dtype: int64"
      ]
     },
     "execution_count": 51,
     "metadata": {},
     "output_type": "execute_result"
    }
   ],
   "source": [
    "test['Supermarket_Location_Type'].value_counts()"
   ]
  },
  {
   "cell_type": "code",
   "execution_count": 52,
   "metadata": {},
   "outputs": [
    {
     "data": {
      "text/plain": [
       "Medium    574\n",
       "Small     461\n",
       "High      213\n",
       "Name: Supermarket _Size, dtype: int64"
      ]
     },
     "execution_count": 52,
     "metadata": {},
     "output_type": "execute_result"
    }
   ],
   "source": [
    "test['Supermarket _Size'].value_counts()"
   ]
  },
  {
   "cell_type": "code",
   "execution_count": 53,
   "metadata": {},
   "outputs": [
    {
     "data": {
      "text/plain": [
       "Supermarket Type1    809\n",
       "Grocery Store        181\n",
       "Supermarket Type2    142\n",
       "Supermarket Type3    116\n",
       "Name: Supermarket_Type, dtype: int64"
      ]
     },
     "execution_count": 53,
     "metadata": {},
     "output_type": "execute_result"
    }
   ],
   "source": [
    "test[\"Supermarket_Type\"].value_counts()"
   ]
  },
  {
   "cell_type": "code",
   "execution_count": 54,
   "metadata": {},
   "outputs": [
    {
     "data": {
      "text/plain": [
       "Probably Healthy    557\n",
       "Healthy             372\n",
       "Unhealthy           319\n",
       "Name: Health Content, dtype: int64"
      ]
     },
     "execution_count": 54,
     "metadata": {},
     "output_type": "execute_result"
    }
   ],
   "source": [
    "test['Health Content'].value_counts()"
   ]
  },
  {
   "cell_type": "markdown",
   "metadata": {},
   "source": [
    "# Data visualization"
   ]
  },
  {
   "cell_type": "code",
   "execution_count": 55,
   "metadata": {},
   "outputs": [
    {
     "data": {
      "text/plain": [
       "Text(0.5, 1.0, 'Health Content Frequency')"
      ]
     },
     "execution_count": 55,
     "metadata": {},
     "output_type": "execute_result"
    },
    {
     "data": {
      "image/png": "[encoded data removed]",
      "text/plain": [
       "<Figure size 360x360 with 1 Axes>"
      ]
     },
     "metadata": {
      "needs_background": "light"
     },
     "output_type": "display_data"
    }
   ],
   "source": [
    "fig =plt.figure(figsize=(5,5))\n",
    "sns.countplot(train['Health Content'],palette='Set1')\n",
    "plt.title('Health Content Frequency')"
   ]
  },
  {
   "cell_type": "code",
   "execution_count": 56,
   "metadata": {},
   "outputs": [
    {
     "data": {
      "text/plain": [
       "Text(0.5, 1.0, 'Supermarket Type Frequency')"
      ]
     },
     "execution_count": 56,
     "metadata": {},
     "output_type": "execute_result"
    },
    {
     "data": {
      "image/png": "[encoded data removed]",
      "text/plain": [
       "<Figure size 720x360 with 1 Axes>"
      ]
     },
     "metadata": {
      "needs_background": "light"
     },
     "output_type": "display_data"
    }
   ],
   "source": [
    "fig =plt.figure(figsize=(10,5))\n",
    "sns.countplot(train[\"Supermarket_Type\"],palette='Set1')\n",
    "plt.title('Supermarket Type Frequency')"
   ]
  },
  {
   "cell_type": "code",
   "execution_count": 57,
   "metadata": {},
   "outputs": [
    {
     "data": {
      "text/plain": [
       "Text(0.5, 1.0, 'Supermarket size Frequency')"
      ]
     },
     "execution_count": 57,
     "metadata": {},
     "output_type": "execute_result"
    },
    {
     "data": {
      "image/png": "[encoded data removed]",
      "text/plain": [
       "<Figure size 360x360 with 1 Axes>"
      ]
     },
     "metadata": {
      "needs_background": "light"
     },
     "output_type": "display_data"
    }
   ],
   "source": [
    "fig =plt.figure(figsize=(5,5))\n",
    "sns.countplot(train[\"Supermarket _Size\"],palette='Set1')\n",
    "plt.title('Supermarket size Frequency')"
   ]
  },
  {
   "cell_type": "code",
   "execution_count": 58,
   "metadata": {},
   "outputs": [
    {
     "data": {
      "text/plain": [
       "Text(0.5, 1.0, 'Supermarket Location Type frequency')"
      ]
     },
     "execution_count": 58,
     "metadata": {},
     "output_type": "execute_result"
    },
    {
     "data": {
      "image/png": "[encoded data removed]",
      "text/plain": [
       "<Figure size 360x360 with 1 Axes>"
      ]
     },
     "metadata": {
      "needs_background": "light"
     },
     "output_type": "display_data"
    }
   ],
   "source": [
    "fig =plt.figure(figsize=(5,5))\n",
    "sns.countplot(train[\"Supermarket_Location_Type\"],palette='Set1')\n",
    "plt.title('Supermarket Location Type frequency')"
   ]
  },
  {
   "cell_type": "code",
   "execution_count": 59,
   "metadata": {},
   "outputs": [
    {
     "data": {
      "text/plain": [
       "Text(0.5, 1.0, 'supermarket type Frequency')"
      ]
     },
     "execution_count": 59,
     "metadata": {},
     "output_type": "execute_result"
    },
    {
     "data": {
      "image/png": "[encoded data removed]",
      "text/plain": [
       "<Figure size 360x360 with 1 Axes>"
      ]
     },
     "metadata": {
      "needs_background": "light"
     },
     "output_type": "display_data"
    }
   ],
   "source": [
    "fig =plt.figure(figsize=(5,5))\n",
    "sns.countplot(train[\"Supermarket_Type\"],palette='Set1')\n",
    "plt.title('supermarket type Frequency')"
   ]
  },
  {
   "cell_type": "code",
   "execution_count": 60,
   "metadata": {},
   "outputs": [
    {
     "data": {
      "image/png": "[encoded data removed]",
      "text/plain": [
       "<Figure size 720x360 with 1 Axes>"
      ]
     },
     "metadata": {
      "needs_background": "light"
     },
     "output_type": "display_data"
    }
   ],
   "source": [
    "fig = plt.figure(figsize=(10,5))\n",
    "plt.bar(train[\"Health Content\"],train[\"Product_Type\"],)\n",
    "plt.xlabel(\"Health Content\")\n",
    "plt.ylabel(\"Product Type\")\n",
    "plt.title(\"Bar chart of Health content Against the product type\")\n",
    "plt.show()"
   ]
  },
  {
   "cell_type": "code",
   "execution_count": 62,
   "metadata": {},
   "outputs": [],
   "source": [
    "#transforming the categorical featuresm intomnumerical values\n",
    "from sklearn.preprocessing import LabelEncoder\n",
    "le=LabelEncoder()\n",
    "test['Product_Fat_Content']=le.fit_transform(test['Product_Fat_Content'])\n",
    "test['Product_Type']=le.fit_transform(test['Product_Type'])\n",
    "test['Supermarket _Size']=le.fit_transform(test['Supermarket _Size'])\n",
    "test['Supermarket_Location_Type']=le.fit_transform(test['Supermarket_Location_Type'])\n",
    "test['Product_Fat_Content']=le.fit_transform(test['Product_Fat_Content'])\n",
    "test['Supermarket_Type']=le.fit_transform(test['Supermarket_Type'])\n",
    "test['Health Content']=le.fit_transform(test['Health Content'])"
   ]
  },
  {
   "cell_type": "markdown",
   "metadata": {},
   "source": [
    "# Model building"
   ]
  },
  {
   "cell_type": "code",
   "execution_count": 63,
   "metadata": {},
   "outputs": [],
   "source": [
    "x=train.drop(\"Product_Supermarket_Sales\",axis='columns')"
   ]
  },
  {
   "cell_type": "code",
   "execution_count": 64,
   "metadata": {},
   "outputs": [],
   "source": [
    "y=train.Product_Supermarket_Sales"
   ]
  },
  {
   "cell_type": "code",
   "execution_count": 65,
   "metadata": {},
   "outputs": [
    {
     "data": {
      "text/html": [
       "<div>\n",
       "<style scoped>\n",
       "    .dataframe tbody tr th:only-of-type {\n",
       "        vertical-align: middle;\n",
       "    }\n",
       "\n",
       "    .dataframe tbody tr th {\n",
       "        vertical-align: top;\n",
       "    }\n",
       "\n",
       "    .dataframe thead th {\n",
       "        text-align: right;\n",
       "    }\n",
       "</style>\n",
       "<table border=\"1\" class=\"dataframe\">\n",
       "  <thead>\n",
       "    <tr style=\"text-align: right;\">\n",
       "      <th></th>\n",
       "      <th>Product_Weight</th>\n",
       "      <th>Product_Fat_Content</th>\n",
       "      <th>Product_Shelf_Visibility</th>\n",
       "      <th>Product_Type</th>\n",
       "      <th>Product_Price</th>\n",
       "      <th>Supermarket_Opening_Year</th>\n",
       "      <th>Supermarket _Size</th>\n",
       "      <th>Supermarket_Location_Type</th>\n",
       "      <th>Supermarket_Type</th>\n",
       "      <th>Health Content</th>\n",
       "    </tr>\n",
       "  </thead>\n",
       "  <tbody>\n",
       "    <tr>\n",
       "      <th>0</th>\n",
       "      <td>8.785</td>\n",
       "      <td>0</td>\n",
       "      <td>0.020694</td>\n",
       "      <td>14</td>\n",
       "      <td>382.91</td>\n",
       "      <td>2014</td>\n",
       "      <td>2</td>\n",
       "      <td>1</td>\n",
       "      <td>1</td>\n",
       "      <td>2</td>\n",
       "    </tr>\n",
       "    <tr>\n",
       "      <th>1</th>\n",
       "      <td>18.600</td>\n",
       "      <td>1</td>\n",
       "      <td>0.086078</td>\n",
       "      <td>6</td>\n",
       "      <td>359.53</td>\n",
       "      <td>1992</td>\n",
       "      <td>2</td>\n",
       "      <td>0</td>\n",
       "      <td>0</td>\n",
       "      <td>0</td>\n",
       "    </tr>\n",
       "    <tr>\n",
       "      <th>2</th>\n",
       "      <td>18.600</td>\n",
       "      <td>0</td>\n",
       "      <td>0.039517</td>\n",
       "      <td>5</td>\n",
       "      <td>609.20</td>\n",
       "      <td>2014</td>\n",
       "      <td>1</td>\n",
       "      <td>1</td>\n",
       "      <td>1</td>\n",
       "      <td>1</td>\n",
       "    </tr>\n",
       "    <tr>\n",
       "      <th>3</th>\n",
       "      <td>14.000</td>\n",
       "      <td>1</td>\n",
       "      <td>0.091780</td>\n",
       "      <td>5</td>\n",
       "      <td>456.32</td>\n",
       "      <td>1992</td>\n",
       "      <td>1</td>\n",
       "      <td>2</td>\n",
       "      <td>3</td>\n",
       "      <td>1</td>\n",
       "    </tr>\n",
       "    <tr>\n",
       "      <th>4</th>\n",
       "      <td>14.000</td>\n",
       "      <td>0</td>\n",
       "      <td>0.023735</td>\n",
       "      <td>0</td>\n",
       "      <td>258.08</td>\n",
       "      <td>2004</td>\n",
       "      <td>2</td>\n",
       "      <td>0</td>\n",
       "      <td>1</td>\n",
       "      <td>1</td>\n",
       "    </tr>\n",
       "  </tbody>\n",
       "</table>\n",
       "</div>"
      ],
      "text/plain": [
       "   Product_Weight  Product_Fat_Content  Product_Shelf_Visibility  \\\n",
       "0           8.785                    0                  0.020694   \n",
       "1          18.600                    1                  0.086078   \n",
       "2          18.600                    0                  0.039517   \n",
       "3          14.000                    1                  0.091780   \n",
       "4          14.000                    0                  0.023735   \n",
       "\n",
       "   Product_Type  Product_Price  Supermarket_Opening_Year  Supermarket _Size  \\\n",
       "0            14         382.91                      2014                  2   \n",
       "1             6         359.53                      1992                  2   \n",
       "2             5         609.20                      2014                  1   \n",
       "3             5         456.32                      1992                  1   \n",
       "4             0         258.08                      2004                  2   \n",
       "\n",
       "   Supermarket_Location_Type  Supermarket_Type  Health Content  \n",
       "0                          1                 1               2  \n",
       "1                          0                 0               0  \n",
       "2                          1                 1               1  \n",
       "3                          2                 3               1  \n",
       "4                          0                 1               1  "
      ]
     },
     "execution_count": 65,
     "metadata": {},
     "output_type": "execute_result"
    }
   ],
   "source": [
    "x.head()"
   ]
  },
  {
   "cell_type": "code",
   "execution_count": 66,
   "metadata": {},
   "outputs": [
    {
     "data": {
      "text/plain": [
       "0     4633.97\n",
       "1      729.05\n",
       "2    14740.81\n",
       "3    16137.33\n",
       "4     4613.99\n",
       "Name: Product_Supermarket_Sales, dtype: float64"
      ]
     },
     "execution_count": 66,
     "metadata": {},
     "output_type": "execute_result"
    }
   ],
   "source": [
    "y.head()"
   ]
  },
  {
   "cell_type": "code",
   "execution_count": 68,
   "metadata": {},
   "outputs": [],
   "source": [
    "from sklearn.model_selection import train_test_split\n",
    "x_train,x_test,y_train,y_test=train_test_split(x,y,test_size=0.3,random_state=0)"
   ]
  },
  {
   "cell_type": "markdown",
   "metadata": {},
   "source": [
    "# Algorithm/ Model 1:Linear Regression"
   ]
  },
  {
   "cell_type": "code",
   "execution_count": 69,
   "metadata": {},
   "outputs": [
    {
     "data": {
      "text/plain": [
       "LinearRegression()"
      ]
     },
     "execution_count": 69,
     "metadata": {},
     "output_type": "execute_result"
    }
   ],
   "source": [
    "from sklearn.linear_model import LinearRegression\n",
    "lr= LinearRegression()\n",
    "lr.fit(x_train,y_train)"
   ]
  },
  {
   "cell_type": "code",
   "execution_count": 74,
   "metadata": {},
   "outputs": [],
   "source": [
    "predictions=lr.predict(test)"
   ]
  },
  {
   "cell_type": "markdown",
   "metadata": {},
   "source": [
    "# Algorithm/ Model 2: XGBOOST"
   ]
  },
  {
   "cell_type": "code",
   "execution_count": 75,
   "metadata": {},
   "outputs": [
    {
     "data": {
      "text/plain": [
       "XGBRegressor(base_score=0.5, booster='gbtree', colsample_bylevel=1,\n",
       "             colsample_bynode=1, colsample_bytree=0.5, gamma=0.3, gpu_id=-1,\n",
       "             importance_type='gain', interaction_constraints='',\n",
       "             learning_rate=0.1, max_delta_step=0, max_depth=6,\n",
       "             min_child_weight=5, missing=nan, monotone_constraints='()',\n",
       "             n_estimators=100, n_jobs=0, num_parallel_tree=1, random_state=0,\n",
       "             reg_alpha=0, reg_lambda=1, scale_pos_weight=1, subsample=1,\n",
       "             tree_method='exact', validate_parameters=1, verbosity=None)"
      ]
     },
     "execution_count": 75,
     "metadata": {},
     "output_type": "execute_result"
    }
   ],
   "source": [
    "import xgboost as xgb\n",
    "xgbmodel=xgb.XGBRegressor(base_score=0.50, booster='gbtree', colsample_bylevel=1,\n",
    "              colsample_bynode=1, colsample_bytree=0.5, gamma=0.3, gpu_id=-1,\n",
    "              importance_type='gain', interaction_constraints='',\n",
    "              learning_rate=0.1, max_delta_step=0, max_depth=6,\n",
    "              min_child_weight=5, monotone_constraints='()',\n",
    "              n_estimators=100, n_jobs=0, num_parallel_tree=1, random_state=0,\n",
    "              reg_alpha=0, reg_lambda=1, scale_pos_weight=1, subsample=1,\n",
    "              tree_method='exact', validate_parameters=1, verbosity=None)\n",
    "xgbmodel.fit(x_train,y_train)"
   ]
  },
  {
   "cell_type": "code",
   "execution_count": 79,
   "metadata": {},
   "outputs": [],
   "source": [
    "predictions=xgbmodel.predict(test)"
   ]
  },
  {
   "cell_type": "markdown",
   "metadata": {},
   "source": [
    "# model deployment"
   ]
  },
  {
   "cell_type": "code",
   "execution_count": null,
   "metadata": {},
   "outputs": [],
   "source": [
    "import pickle\n",
    "pickle_out=open(\"prediction.pkl\",\"wb\")\n",
    "pickle.dump(classifier,pickle_out)\n",
    "pickle_out.close()"
   ]
  },
  {
   "cell_type": "code",
   "execution_count": null,
   "metadata": {},
   "outputs": [],
   "source": []
  }
 ],
 "metadata": {
  "kernelspec": {
   "display_name": "Python 3",
   "language": "python",
   "name": "python3"
  },
  "language_info": {
   "codemirror_mode": {
    "name": "ipython",
    "version": 3
   },
   "file_extension": ".py",
   "mimetype": "text/x-python",
   "name": "python",
   "nbconvert_exporter": "python",
   "pygments_lexer": "ipython3",
   "version": "3.6.10"
  }
 },
 "nbformat": 4,
 "nbformat_minor": 4
}
